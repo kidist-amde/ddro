{
 "cells": [
  {
   "cell_type": "code",
   "execution_count": 9,
   "id": "e4e0176d",
   "metadata": {},
   "outputs": [],
   "source": [
    "# file: scripts/convert_json_to_jsonl.py\n",
    "\n",
    "import os\n",
    "import json\n",
    "\n",
    "input_path = \"/ivi/ilps/personal/kmekonn/projects/LDDRO/ddro/resources/datasets/processed/nq-data/nq_merged.json\"\n",
    "output_path = \"/ivi/ilps/personal/kmekonn/projects/LDDRO/ddro/resources/datasets/processed/nq-data/nq-merged-json/nq-docs-sents.jsonl\"\n",
    "\n",
    "os.makedirs(os.path.dirname(output_path), exist_ok=True)\n",
    "\n",
    "with open(input_path, \"r\") as f_in, open(output_path, \"w\") as f_out:\n",
    "    for i, line in enumerate(f_in, 1):\n",
    "        try:\n",
    "            entry = json.loads(line)\n",
    "            if \"id\" not in entry or \"content\" not in entry:\n",
    "                print(f\"Skipping line {i}: missing 'id' or 'content'\")\n",
    "                continue\n",
    "\n",
    "            f_out.write(json.dumps({\n",
    "                \"id\": entry[\"id\"],\n",
    "                \"contents\": entry[\"content\"]\n",
    "            }) + \"\\n\")\n",
    "\n",
    "        except json.JSONDecodeError as e:\n",
    "            print(f\"Skipping line {i}: JSONDecodeError - {e}\")\n"
   ]
  },
  {
   "cell_type": "code",
   "execution_count": null,
   "id": "0adfc8b0",
   "metadata": {},
   "outputs": [],
   "source": []
  }
 ],
 "metadata": {
  "kernelspec": {
   "display_name": "ddro_env",
   "language": "python",
   "name": "python3"
  },
  "language_info": {
   "codemirror_mode": {
    "name": "ipython",
    "version": 3
   },
   "file_extension": ".py",
   "mimetype": "text/x-python",
   "name": "python",
   "nbconvert_exporter": "python",
   "pygments_lexer": "ipython3",
   "version": "3.10.15"
  }
 },
 "nbformat": 4,
 "nbformat_minor": 5
}
